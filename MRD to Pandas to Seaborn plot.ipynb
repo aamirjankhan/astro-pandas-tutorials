{
 "cells": [
  {
   "cell_type": "markdown",
   "metadata": {},
   "source": [
    "Example of using Pandas DataFrames to deal with astronomical data.  I downloaded a machine-readable table from an ApJS journal article, converted it to a Pandas data frame (via astropy Tables), filtered the data, and then plotted a density plot using seaborn.  jrigby, june 2016"
   ]
  },
  {
   "cell_type": "code",
   "execution_count": null,
   "metadata": {
    "collapsed": false
   },
   "outputs": [],
   "source": [
    "%pylab inline\n",
    "from astropy.io import ascii\n",
    "from astropy.table import Table\n",
    "from matplotlib import pyplot as plt\n",
    "import seaborn as sns"
   ]
  },
  {
   "cell_type": "code",
   "execution_count": null,
   "metadata": {
    "collapsed": false
   },
   "outputs": [],
   "source": [
    "# This big file takes some time to download.  May time out. If so, wget, direct link, move on\n",
    "file = \"http://iopscience.iop.org/0067-0049/203/2/24/suppdata/apjs449744t2_mrt.txt\"\n",
    "#file_local = \"/Volumes/Apps_and_Docs/jrrigby1/Dropbox/SGAS-shared/s1110-paper2/JRR_morph_working/VanderWel/apjs449744t2_mrt.txt\"\n",
    "temp_table = ascii.read(file)"
   ]
  },
  {
   "cell_type": "markdown",
   "metadata": {},
   "source": [
    "ApJ publishes CDS format machine-readable tables.  Astropy.Tables can read that out-of-the-box, with no customizing.  Sweet!  However, I don't think astropy tables is nearly as powerful as Pandas Data Frames for filtering and manipulating.  I love Pandas!  So, I use the astropy to_pandas() to convert.  It wasn't really necessary for this example, but it'd be nice if we were doing heavier-duty math or filtering."
   ]
  },
  {
   "cell_type": "code",
   "execution_count": null,
   "metadata": {
    "collapsed": false
   },
   "outputs": [],
   "source": [
    "print \"Have read in Table 2 of van der Wel 2012 as an Astropy table\"\n",
    "table = temp_table.to_pandas()  # Convert from astropy Table to Pandas Data Frame.  Needs astropy 1.2\n",
    "print \"Have converted to a Pandas Data frame\"\n",
    "table.head()"
   ]
  },
  {
   "cell_type": "code",
   "execution_count": null,
   "metadata": {
    "collapsed": true
   },
   "outputs": [],
   "source": [
    "good = table[table['Flag'].eq(0)]  # filter out bad Galfit fits\n",
    "H = good[good['Filter'].str.contains(\"H\")]  # filter just H-band\n",
    "J = good[good['Filter'].str.contains(\"J\")]  # filter just J-band\n",
    "small = H[H['ID'].lt(3000)]  # make a small subset of H, for quick plotting"
   ]
  },
  {
   "cell_type": "code",
   "execution_count": null,
   "metadata": {
    "collapsed": false
   },
   "outputs": [],
   "source": [
    "# Add a point I want to plot\n",
    "kpc_per_arcsec = 8.085\n",
    "# add in s1110            _e(\")          n     d(r_e(\"))        d(n)\n",
    "s1110_candelized= (2.3/kpc_per_arcsec, 1.0, 0.3/kpc_per_arcsec, 0.4)   # average over all bands\n",
    "s1110_F160cand = (0.32, 0.68, 0.029, 0.26)   #F160W only, from Table 1 of paper draft\n",
    "def plot_my_point() :\n",
    "    plt.scatter( s1110_candelized[0], s1110_candelized[1], color='k', s=100)\n",
    "    plt.errorbar(s1110_candelized[0],s1110_candelized[1], xerr=s1110_candelized[2],yerr=s1110_candelized[3], ecolor='k')\n",
    "    plt.scatter( s1110_F160cand[0], s1110_F160cand[1], color='r', s=100)\n",
    "    plt.errorbar(s1110_F160cand[0],s1110_F160cand[1], xerr=s1110_F160cand[2],yerr=s1110_F160cand[3], ecolor='r')\n"
   ]
  },
  {
   "cell_type": "code",
   "execution_count": null,
   "metadata": {
    "collapsed": false
   },
   "outputs": [],
   "source": [
    "# plot the result as a density plot.  \n",
    "plotted = H   #small to run fast, H to run slow but more accurate\n",
    "sns.set(font_scale=2)\n",
    "sns.set_style(\"white\")\n",
    "ax = sns.kdeplot(plotted.r, plotted.n, n_levels=22)\n",
    "ax.set_xlim(0,1.5)\n",
    "ax.set_ylim(0,5)\n",
    "ax.set_xlabel(\"effective radius (\\\")\")\n",
    "ax.set_ylabel(\"Sersic index\")\n",
    "plot_my_point()  # cool, I can overplot regular matplotlib commands like scatter, errorbar\n",
    "#savefig(\"~/Dropbox/SGAS-shared/s1110-paper2/JRR_morph_working/VanderWel/kde.pdf\")\n",
    "savefig(\"Output/kde.pdf\")"
   ]
  },
  {
   "cell_type": "code",
   "execution_count": null,
   "metadata": {
    "collapsed": false
   },
   "outputs": [],
   "source": [
    "# Let's try the seaborn JointGrid, to add histograms to margins\n",
    "# code borrowed from https://github.com/mwaskom/seaborn/issues/469\n",
    "plotted = H  #small to run fast, H to run slow but more accurate\n",
    "g = sns.JointGrid(plotted.r, plotted.n, size=8)\n",
    "g.set_axis_labels(\"effective radius (\\\")\", \"Sersic index\")\n",
    "g.ax_marg_x.hist(plotted.r, bins=np.arange(0, 1.4, 0.05))\n",
    "g.ax_marg_y.hist(plotted.n, bins=np.arange(0, 5, 0.2), orientation=\"horizontal\")\n",
    "g.plot_joint(plt.hexbin, gridsize=40, extent=[0, 1.4, 0, 5], cmap=\"Blues\")\n",
    "plot_my_point()  # cool, I can overplot regular matplotlib commands like scatter, errorbar\n",
    "#g.fig.savefig(\"~/Dropbox/SGAS-shared/s1110-paper2/JRR_morph_working/VanderWel/hex.pdf\")\n",
    "g.fig.savefig(\"Output/hex.pdf\")"
   ]
  },
  {
   "cell_type": "markdown",
   "metadata": {},
   "source": [
    "Groovy!  We sucked in the catalog of van der Wel 2012, manipulated it, and plotted it.  Time for a cookie."
   ]
  }
 ],
 "metadata": {
  "kernelspec": {
   "display_name": "Python 2",
   "language": "python",
   "name": "python2"
  },
  "language_info": {
   "codemirror_mode": {
    "name": "ipython",
    "version": 2
   },
   "file_extension": ".py",
   "mimetype": "text/x-python",
   "name": "python",
   "nbconvert_exporter": "python",
   "pygments_lexer": "ipython2",
   "version": "2.7.11"
  }
 },
 "nbformat": 4,
 "nbformat_minor": 0
}
