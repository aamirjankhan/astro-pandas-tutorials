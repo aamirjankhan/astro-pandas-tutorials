{
 "cells": [
  {
   "cell_type": "markdown",
   "metadata": {},
   "source": [
    "###**What is Pandas?**  Pandas is a python library for data analysis. It uses high-level data structures, and ways to manipulate them.  Pandas comes from data science, and works (almost) seamlessly with numpy and scipy."
   ]
  },
  {
   "cell_type": "markdown",
   "metadata": {},
   "source": [
    "**Why use Pandas?**  Pandas makes it easy to manage complex data, munge data into submission, and perform scientific analysis. I've found it really fun to do science in Pandas!"
   ]
  },
  {
   "cell_type": "markdown",
   "metadata": {},
   "source": [
    "**Where to get started?** I personally love the book, \"Python for Data Analysis: Data Wrangling with Pandas, NumPy, and IPython\", by Wes McKinney, the inventor of Pandas."
   ]
  },
  {
   "cell_type": "code",
   "execution_count": 185,
   "metadata": {
    "collapsed": false
   },
   "outputs": [],
   "source": [
    "from IPython.display import Image, HTML\n",
    "import pandas  # Lots of people import pandas as pd for brevity\n",
    "import numpy as np\n",
    "import astropy.convolution\n",
    "from scipy.optimize import curve_fit\n",
    "%matplotlib inline"
   ]
  },
  {
   "cell_type": "markdown",
   "metadata": {},
   "source": [
    "<img src=\"https://covers.oreillystatic.com/images/0636920023784/cat.gif\">"
   ]
  },
  {
   "cell_type": "markdown",
   "metadata": {},
   "source": [
    "**Why should you use pandas?**  Pandas makes it easy to keep track of complex datasets.  You can visualize your data, manipulate, munge out bad data, filter, fit with models, bin and group, concatenate with other datasets, and export."
   ]
  },
  {
   "cell_type": "markdown",
   "metadata": {},
   "source": [
    "Let's dive in, and meet the basic part of pandas:  **pandas.DataFrame()**\n",
    "A DataFrame is like a dictionary-on-steroids.  Or like a spreadsheet with rows and columns."
   ]
  },
  {
   "cell_type": "code",
   "execution_count": 186,
   "metadata": {
    "collapsed": false
   },
   "outputs": [
    {
     "data": {
      "text/html": [
       "<div>\n",
       "<table border=\"1\" class=\"dataframe\">\n",
       "  <thead>\n",
       "    <tr style=\"text-align: right;\">\n",
       "      <th></th>\n",
       "      <th>wave</th>\n",
       "      <th>flam</th>\n",
       "      <th>noise</th>\n",
       "    </tr>\n",
       "  </thead>\n",
       "  <tbody>\n",
       "    <tr>\n",
       "      <th>0</th>\n",
       "      <td>11436.9</td>\n",
       "      <td>-1.795000e-17</td>\n",
       "      <td>5.534000e-17</td>\n",
       "    </tr>\n",
       "    <tr>\n",
       "      <th>1</th>\n",
       "      <td>11439.2</td>\n",
       "      <td>1.203000e-16</td>\n",
       "      <td>4.374000e-17</td>\n",
       "    </tr>\n",
       "    <tr>\n",
       "      <th>2</th>\n",
       "      <td>11441.4</td>\n",
       "      <td>1.857000e-17</td>\n",
       "      <td>4.261000e-17</td>\n",
       "    </tr>\n",
       "    <tr>\n",
       "      <th>3</th>\n",
       "      <td>11443.7</td>\n",
       "      <td>-1.751000e-16</td>\n",
       "      <td>3.584000e-17</td>\n",
       "    </tr>\n",
       "    <tr>\n",
       "      <th>4</th>\n",
       "      <td>11446.0</td>\n",
       "      <td>-8.348000e-17</td>\n",
       "      <td>3.160000e-17</td>\n",
       "    </tr>\n",
       "  </tbody>\n",
       "</table>\n",
       "</div>"
      ],
      "text/plain": [
       "      wave          flam         noise\n",
       "0  11436.9 -1.795000e-17  5.534000e-17\n",
       "1  11439.2  1.203000e-16  4.374000e-17\n",
       "2  11441.4  1.857000e-17  4.261000e-17\n",
       "3  11443.7 -1.751000e-16  3.584000e-17\n",
       "4  11446.0 -8.348000e-17  3.160000e-17"
      ]
     },
     "execution_count": 186,
     "metadata": {},
     "output_type": "execute_result"
    }
   ],
   "source": [
    "# Loading the Keck/Nirspec spectrum of a gravitationally lensed galaxy, \n",
    "# from Wuyts, Rigby, Gladders et al. 2014, The Astrophysical Journal,  781, 61\n",
    "df1 = pandas.read_table(\"Sample_data/rcs0327_knotU_N3_nirspeckeck.txt\", delim_whitespace=True, comment=\"#\")\n",
    "df1.head()"
   ]
  },
  {
   "cell_type": "markdown",
   "metadata": {},
   "source": [
    "So, df1 is a pandas dataframe that I read with read_table().  There are several read_ tools:  read_csv(), read_sql(), read_excel() ... you get the picture.  \n",
    "I wrote a tutorial on [reading astronomical data with pandas.](https://github.com/janerigby/astro-pandas-tutorials/blob/master/Get%20data%20into%20pandas.ipynb)"
   ]
  },
  {
   "cell_type": "markdown",
   "metadata": {},
   "source": [
    "Let's examine df1.  It looks like a spreadsheet, with rows and columns."
   ]
  },
  {
   "cell_type": "code",
   "execution_count": 187,
   "metadata": {
    "collapsed": false
   },
   "outputs": [
    {
     "name": "stdout",
     "output_type": "stream",
     "text": [
      "Index([u'wave', u'flam', u'noise'], dtype='object')\n",
      "Index([u'wave', u'flam', u'noise'], dtype='object')\n"
     ]
    }
   ],
   "source": [
    "print df1.keys()\n",
    "print df1.columns"
   ]
  },
  {
   "cell_type": "code",
   "execution_count": 188,
   "metadata": {
    "collapsed": false
   },
   "outputs": [
    {
     "name": "stdout",
     "output_type": "stream",
     "text": [
      "<class 'pandas.core.frame.DataFrame'>\n",
      "RangeIndex: 1121 entries, 0 to 1120\n",
      "Data columns (total 3 columns):\n",
      "wave     1121 non-null float64\n",
      "flam     1107 non-null float64\n",
      "noise    1121 non-null float64\n",
      "dtypes: float64(3)\n",
      "memory usage: 26.3 KB\n"
     ]
    }
   ],
   "source": [
    "df1.info()"
   ]
  },
  {
   "cell_type": "code",
   "execution_count": 189,
   "metadata": {
    "collapsed": false
   },
   "outputs": [
    {
     "data": {
      "text/html": [
       "<div>\n",
       "<table border=\"1\" class=\"dataframe\">\n",
       "  <thead>\n",
       "    <tr style=\"text-align: right;\">\n",
       "      <th></th>\n",
       "      <th>wave</th>\n",
       "      <th>flam</th>\n",
       "      <th>noise</th>\n",
       "    </tr>\n",
       "  </thead>\n",
       "  <tbody>\n",
       "    <tr>\n",
       "      <th>count</th>\n",
       "      <td>1121.000000</td>\n",
       "      <td>1.107000e+03</td>\n",
       "      <td>1.121000e+03</td>\n",
       "    </tr>\n",
       "    <tr>\n",
       "      <th>mean</th>\n",
       "      <td>12819.974844</td>\n",
       "      <td>1.633409e-17</td>\n",
       "      <td>2.663281e-16</td>\n",
       "    </tr>\n",
       "    <tr>\n",
       "      <th>std</th>\n",
       "      <td>830.235363</td>\n",
       "      <td>4.336269e-16</td>\n",
       "      <td>2.096674e-15</td>\n",
       "    </tr>\n",
       "    <tr>\n",
       "      <th>min</th>\n",
       "      <td>11436.900000</td>\n",
       "      <td>-1.031000e-14</td>\n",
       "      <td>0.000000e+00</td>\n",
       "    </tr>\n",
       "    <tr>\n",
       "      <th>25%</th>\n",
       "      <td>12096.000000</td>\n",
       "      <td>-5.886500e-19</td>\n",
       "      <td>3.083000e-18</td>\n",
       "    </tr>\n",
       "    <tr>\n",
       "      <th>50%</th>\n",
       "      <td>12793.100000</td>\n",
       "      <td>3.920000e-18</td>\n",
       "      <td>5.154000e-18</td>\n",
       "    </tr>\n",
       "    <tr>\n",
       "      <th>75%</th>\n",
       "      <td>13530.400000</td>\n",
       "      <td>1.009500e-17</td>\n",
       "      <td>1.115000e-17</td>\n",
       "    </tr>\n",
       "    <tr>\n",
       "      <th>max</th>\n",
       "      <td>14310.200000</td>\n",
       "      <td>4.415000e-15</td>\n",
       "      <td>5.516000e-14</td>\n",
       "    </tr>\n",
       "  </tbody>\n",
       "</table>\n",
       "</div>"
      ],
      "text/plain": [
       "               wave          flam         noise\n",
       "count   1121.000000  1.107000e+03  1.121000e+03\n",
       "mean   12819.974844  1.633409e-17  2.663281e-16\n",
       "std      830.235363  4.336269e-16  2.096674e-15\n",
       "min    11436.900000 -1.031000e-14  0.000000e+00\n",
       "25%    12096.000000 -5.886500e-19  3.083000e-18\n",
       "50%    12793.100000  3.920000e-18  5.154000e-18\n",
       "75%    13530.400000  1.009500e-17  1.115000e-17\n",
       "max    14310.200000  4.415000e-15  5.516000e-14"
      ]
     },
     "execution_count": 189,
     "metadata": {},
     "output_type": "execute_result"
    }
   ],
   "source": [
    "df1.describe()"
   ]
  },
  {
   "cell_type": "code",
   "execution_count": 213,
   "metadata": {
    "collapsed": false
   },
   "outputs": [
    {
     "data": {
      "text/plain": [
       "(1121, 5)"
      ]
     },
     "execution_count": 213,
     "metadata": {},
     "output_type": "execute_result"
    }
   ],
   "source": [
    "df1.shape"
   ]
  },
  {
   "cell_type": "code",
   "execution_count": 190,
   "metadata": {
    "collapsed": false
   },
   "outputs": [
    {
     "data": {
      "text/html": [
       "<div>\n",
       "<table border=\"1\" class=\"dataframe\">\n",
       "  <thead>\n",
       "    <tr style=\"text-align: right;\">\n",
       "      <th></th>\n",
       "      <th>wave</th>\n",
       "      <th>flam</th>\n",
       "      <th>noise</th>\n",
       "    </tr>\n",
       "  </thead>\n",
       "  <tbody>\n",
       "    <tr>\n",
       "      <th>1118</th>\n",
       "      <td>14304.5</td>\n",
       "      <td>NaN</td>\n",
       "      <td>0.0</td>\n",
       "    </tr>\n",
       "    <tr>\n",
       "      <th>1119</th>\n",
       "      <td>14307.4</td>\n",
       "      <td>NaN</td>\n",
       "      <td>0.0</td>\n",
       "    </tr>\n",
       "    <tr>\n",
       "      <th>1120</th>\n",
       "      <td>14310.2</td>\n",
       "      <td>NaN</td>\n",
       "      <td>0.0</td>\n",
       "    </tr>\n",
       "  </tbody>\n",
       "</table>\n",
       "</div>"
      ],
      "text/plain": [
       "         wave  flam  noise\n",
       "1118  14304.5   NaN    0.0\n",
       "1119  14307.4   NaN    0.0\n",
       "1120  14310.2   NaN    0.0"
      ]
     },
     "execution_count": 190,
     "metadata": {},
     "output_type": "execute_result"
    }
   ],
   "source": [
    "df1.tail(3)"
   ]
  },
  {
   "cell_type": "code",
   "execution_count": 191,
   "metadata": {
    "collapsed": false
   },
   "outputs": [
    {
     "data": {
      "text/html": [
       "<div>\n",
       "<table border=\"1\" class=\"dataframe\">\n",
       "  <thead>\n",
       "    <tr style=\"text-align: right;\">\n",
       "      <th></th>\n",
       "      <th>wave</th>\n",
       "      <th>flam</th>\n",
       "      <th>noise</th>\n",
       "    </tr>\n",
       "  </thead>\n",
       "  <tbody>\n",
       "    <tr>\n",
       "      <th>0</th>\n",
       "      <td>11436.9</td>\n",
       "      <td>-1.795000e-17</td>\n",
       "      <td>5.534000e-17</td>\n",
       "    </tr>\n",
       "    <tr>\n",
       "      <th>1</th>\n",
       "      <td>11439.2</td>\n",
       "      <td>1.203000e-16</td>\n",
       "      <td>4.374000e-17</td>\n",
       "    </tr>\n",
       "  </tbody>\n",
       "</table>\n",
       "</div>"
      ],
      "text/plain": [
       "      wave          flam         noise\n",
       "0  11436.9 -1.795000e-17  5.534000e-17\n",
       "1  11439.2  1.203000e-16  4.374000e-17"
      ]
     },
     "execution_count": 191,
     "metadata": {},
     "output_type": "execute_result"
    }
   ],
   "source": [
    "df1.head(2)"
   ]
  },
  {
   "cell_type": "code",
   "execution_count": 192,
   "metadata": {
    "collapsed": false
   },
   "outputs": [
    {
     "data": {
      "text/plain": [
       "wave     1.431020e+04\n",
       "flam     4.415000e-15\n",
       "noise    5.516000e-14\n",
       "dtype: float64"
      ]
     },
     "execution_count": 192,
     "metadata": {},
     "output_type": "execute_result"
    }
   ],
   "source": [
    "df1.max()"
   ]
  },
  {
   "cell_type": "code",
   "execution_count": 193,
   "metadata": {
    "collapsed": false
   },
   "outputs": [
    {
     "data": {
      "text/plain": [
       "1060    4.415000e-15\n",
       "1069    2.689000e-15\n",
       "1037    1.624000e-15\n",
       "Name: flam, dtype: float64"
      ]
     },
     "execution_count": 193,
     "metadata": {},
     "output_type": "execute_result"
    }
   ],
   "source": [
    "df1['flam'].nlargest(3)"
   ]
  },
  {
   "cell_type": "code",
   "execution_count": 194,
   "metadata": {
    "collapsed": false
   },
   "outputs": [
    {
     "data": {
      "text/html": [
       "<div>\n",
       "<table border=\"1\" class=\"dataframe\">\n",
       "  <thead>\n",
       "    <tr style=\"text-align: right;\">\n",
       "      <th></th>\n",
       "      <th>wave</th>\n",
       "      <th>flam</th>\n",
       "      <th>noise</th>\n",
       "    </tr>\n",
       "  </thead>\n",
       "  <tbody>\n",
       "    <tr>\n",
       "      <th>0</th>\n",
       "      <td>False</td>\n",
       "      <td>False</td>\n",
       "      <td>False</td>\n",
       "    </tr>\n",
       "    <tr>\n",
       "      <th>1</th>\n",
       "      <td>False</td>\n",
       "      <td>False</td>\n",
       "      <td>False</td>\n",
       "    </tr>\n",
       "    <tr>\n",
       "      <th>2</th>\n",
       "      <td>False</td>\n",
       "      <td>False</td>\n",
       "      <td>False</td>\n",
       "    </tr>\n",
       "  </tbody>\n",
       "</table>\n",
       "</div>"
      ],
      "text/plain": [
       "    wave   flam  noise\n",
       "0  False  False  False\n",
       "1  False  False  False\n",
       "2  False  False  False"
      ]
     },
     "execution_count": 194,
     "metadata": {},
     "output_type": "execute_result"
    }
   ],
   "source": [
    "df1.isnull().head(3)"
   ]
  },
  {
   "cell_type": "code",
   "execution_count": 195,
   "metadata": {
    "collapsed": false
   },
   "outputs": [
    {
     "data": {
      "text/plain": [
       "wave      0\n",
       "flam     14\n",
       "noise     0\n",
       "dtype: int64"
      ]
     },
     "execution_count": 195,
     "metadata": {},
     "output_type": "execute_result"
    }
   ],
   "source": [
    "df1.isnull().sum()"
   ]
  },
  {
   "cell_type": "code",
   "execution_count": 196,
   "metadata": {
    "collapsed": false
   },
   "outputs": [
    {
     "data": {
      "text/html": [
       "<div>\n",
       "<table border=\"1\" class=\"dataframe\">\n",
       "  <thead>\n",
       "    <tr style=\"text-align: right;\">\n",
       "      <th></th>\n",
       "      <th>wave</th>\n",
       "      <th>flam</th>\n",
       "      <th>noise</th>\n",
       "    </tr>\n",
       "  </thead>\n",
       "  <tbody>\n",
       "    <tr>\n",
       "      <th>1107</th>\n",
       "      <td>14273.1</td>\n",
       "      <td>NaN</td>\n",
       "      <td>0.0</td>\n",
       "    </tr>\n",
       "    <tr>\n",
       "      <th>1108</th>\n",
       "      <td>14275.9</td>\n",
       "      <td>NaN</td>\n",
       "      <td>0.0</td>\n",
       "    </tr>\n",
       "    <tr>\n",
       "      <th>1109</th>\n",
       "      <td>14278.8</td>\n",
       "      <td>NaN</td>\n",
       "      <td>0.0</td>\n",
       "    </tr>\n",
       "    <tr>\n",
       "      <th>1110</th>\n",
       "      <td>14281.6</td>\n",
       "      <td>NaN</td>\n",
       "      <td>0.0</td>\n",
       "    </tr>\n",
       "    <tr>\n",
       "      <th>1111</th>\n",
       "      <td>14284.5</td>\n",
       "      <td>NaN</td>\n",
       "      <td>0.0</td>\n",
       "    </tr>\n",
       "    <tr>\n",
       "      <th>1112</th>\n",
       "      <td>14287.3</td>\n",
       "      <td>NaN</td>\n",
       "      <td>0.0</td>\n",
       "    </tr>\n",
       "    <tr>\n",
       "      <th>1113</th>\n",
       "      <td>14290.2</td>\n",
       "      <td>NaN</td>\n",
       "      <td>0.0</td>\n",
       "    </tr>\n",
       "    <tr>\n",
       "      <th>1114</th>\n",
       "      <td>14293.1</td>\n",
       "      <td>NaN</td>\n",
       "      <td>0.0</td>\n",
       "    </tr>\n",
       "    <tr>\n",
       "      <th>1115</th>\n",
       "      <td>14295.9</td>\n",
       "      <td>NaN</td>\n",
       "      <td>0.0</td>\n",
       "    </tr>\n",
       "    <tr>\n",
       "      <th>1116</th>\n",
       "      <td>14298.8</td>\n",
       "      <td>NaN</td>\n",
       "      <td>0.0</td>\n",
       "    </tr>\n",
       "    <tr>\n",
       "      <th>1117</th>\n",
       "      <td>14301.6</td>\n",
       "      <td>NaN</td>\n",
       "      <td>0.0</td>\n",
       "    </tr>\n",
       "    <tr>\n",
       "      <th>1118</th>\n",
       "      <td>14304.5</td>\n",
       "      <td>NaN</td>\n",
       "      <td>0.0</td>\n",
       "    </tr>\n",
       "    <tr>\n",
       "      <th>1119</th>\n",
       "      <td>14307.4</td>\n",
       "      <td>NaN</td>\n",
       "      <td>0.0</td>\n",
       "    </tr>\n",
       "    <tr>\n",
       "      <th>1120</th>\n",
       "      <td>14310.2</td>\n",
       "      <td>NaN</td>\n",
       "      <td>0.0</td>\n",
       "    </tr>\n",
       "  </tbody>\n",
       "</table>\n",
       "</div>"
      ],
      "text/plain": [
       "         wave  flam  noise\n",
       "1107  14273.1   NaN    0.0\n",
       "1108  14275.9   NaN    0.0\n",
       "1109  14278.8   NaN    0.0\n",
       "1110  14281.6   NaN    0.0\n",
       "1111  14284.5   NaN    0.0\n",
       "1112  14287.3   NaN    0.0\n",
       "1113  14290.2   NaN    0.0\n",
       "1114  14293.1   NaN    0.0\n",
       "1115  14295.9   NaN    0.0\n",
       "1116  14298.8   NaN    0.0\n",
       "1117  14301.6   NaN    0.0\n",
       "1118  14304.5   NaN    0.0\n",
       "1119  14307.4   NaN    0.0\n",
       "1120  14310.2   NaN    0.0"
      ]
     },
     "execution_count": 196,
     "metadata": {},
     "output_type": "execute_result"
    }
   ],
   "source": [
    "# pandas.DataFrame.interpolate() can replace NaNs.  Use with care!\n",
    "# pandas.dropna() can drop the NaNs.  Use with care.\n",
    "df1.loc[df1['flam'].isnull()]"
   ]
  },
  {
   "cell_type": "code",
   "execution_count": 197,
   "metadata": {
    "collapsed": false
   },
   "outputs": [
    {
     "data": {
      "text/plain": [
       "wave     1.144370e+04\n",
       "flam    -1.751000e-16\n",
       "noise    3.584000e-17\n",
       "Name: 3, dtype: float64"
      ]
     },
     "execution_count": 197,
     "metadata": {},
     "output_type": "execute_result"
    }
   ],
   "source": [
    "df1.ix[3]  # Get one row, access by the index.  Clunky"
   ]
  },
  {
   "cell_type": "code",
   "execution_count": 198,
   "metadata": {
    "collapsed": false
   },
   "outputs": [
    {
     "data": {
      "text/plain": [
       "0    False\n",
       "1    False\n",
       "2    False\n",
       "3    False\n",
       "4    False\n",
       "Name: wave, dtype: bool"
      ]
     },
     "execution_count": 198,
     "metadata": {},
     "output_type": "execute_result"
    }
   ],
   "source": [
    "df1['wave'].between(12793., 12799.).head()   # Boolean filter"
   ]
  },
  {
   "cell_type": "code",
   "execution_count": 199,
   "metadata": {
    "collapsed": false
   },
   "outputs": [
    {
     "data": {
      "text/html": [
       "<div>\n",
       "<table border=\"1\" class=\"dataframe\">\n",
       "  <thead>\n",
       "    <tr style=\"text-align: right;\">\n",
       "      <th></th>\n",
       "      <th>wave</th>\n",
       "      <th>flam</th>\n",
       "      <th>noise</th>\n",
       "    </tr>\n",
       "  </thead>\n",
       "  <tbody>\n",
       "    <tr>\n",
       "      <th>560</th>\n",
       "      <td>12793.1</td>\n",
       "      <td>-3.087000e-18</td>\n",
       "      <td>7.239000e-18</td>\n",
       "    </tr>\n",
       "    <tr>\n",
       "      <th>561</th>\n",
       "      <td>12795.7</td>\n",
       "      <td>5.561000e-19</td>\n",
       "      <td>8.453000e-18</td>\n",
       "    </tr>\n",
       "    <tr>\n",
       "      <th>562</th>\n",
       "      <td>12798.3</td>\n",
       "      <td>9.950000e-18</td>\n",
       "      <td>1.047000e-17</td>\n",
       "    </tr>\n",
       "  </tbody>\n",
       "</table>\n",
       "</div>"
      ],
      "text/plain": [
       "        wave          flam         noise\n",
       "560  12793.1 -3.087000e-18  7.239000e-18\n",
       "561  12795.7  5.561000e-19  8.453000e-18\n",
       "562  12798.3  9.950000e-18  1.047000e-17"
      ]
     },
     "execution_count": 199,
     "metadata": {},
     "output_type": "execute_result"
    }
   ],
   "source": [
    "df1.loc[df1['wave'].between(12793., 12799.)]   # Using that boolean filter"
   ]
  },
  {
   "cell_type": "code",
   "execution_count": 200,
   "metadata": {
    "collapsed": false
   },
   "outputs": [
    {
     "data": {
      "text/plain": [
       "<matplotlib.text.Text at 0x1236e12d0>"
      ]
     },
     "execution_count": 200,
     "metadata": {},
     "output_type": "execute_result"
    },
    {
     "data": {
      "image/png": "[encoded data removed]",
      "text/plain": [
       "<matplotlib.figure.Figure at 0x123068650>"
      ]
     },
     "metadata": {},
     "output_type": "display_data"
    }
   ],
   "source": [
    "# Plotting shortcut:  pandas.DataFrame.plot() \n",
    "ax = df1.plot(x='wave', y='flam', color='k')\n",
    "df1.plot(x='wave', y='noise', color='yellow', ax=ax, label='uncert')\n",
    "plt.ylim(0,1E-15)\n",
    "plt.xlim(1.15E4, 1.38E4) # Can intermix regular matplotlib commands\n",
    "plt.xlabel(r\"observed wavelength ($\\AA$)\")"
   ]
  },
  {
   "cell_type": "code",
   "execution_count": 201,
   "metadata": {
    "collapsed": false
   },
   "outputs": [
    {
     "data": {
      "text/html": [
       "<div>\n",
       "<table border=\"1\" class=\"dataframe\">\n",
       "  <thead>\n",
       "    <tr style=\"text-align: right;\">\n",
       "      <th></th>\n",
       "      <th>wave</th>\n",
       "      <th>flam</th>\n",
       "      <th>noise</th>\n",
       "      <th>dispersion</th>\n",
       "    </tr>\n",
       "  </thead>\n",
       "  <tbody>\n",
       "    <tr>\n",
       "      <th>0</th>\n",
       "      <td>11436.9</td>\n",
       "      <td>-1.795000e-17</td>\n",
       "      <td>5.534000e-17</td>\n",
       "      <td>2.3</td>\n",
       "    </tr>\n",
       "    <tr>\n",
       "      <th>1</th>\n",
       "      <td>11439.2</td>\n",
       "      <td>1.203000e-16</td>\n",
       "      <td>4.374000e-17</td>\n",
       "      <td>2.3</td>\n",
       "    </tr>\n",
       "    <tr>\n",
       "      <th>2</th>\n",
       "      <td>11441.4</td>\n",
       "      <td>1.857000e-17</td>\n",
       "      <td>4.261000e-17</td>\n",
       "      <td>2.2</td>\n",
       "    </tr>\n",
       "  </tbody>\n",
       "</table>\n",
       "</div>"
      ],
      "text/plain": [
       "      wave          flam         noise  dispersion\n",
       "0  11436.9 -1.795000e-17  5.534000e-17         2.3\n",
       "1  11439.2  1.203000e-16  4.374000e-17         2.3\n",
       "2  11441.4  1.857000e-17  4.261000e-17         2.2"
      ]
     },
     "execution_count": 201,
     "metadata": {},
     "output_type": "execute_result"
    }
   ],
   "source": [
    "#It's easy to add a new column to the dataframe\n",
    "df1['dispersion'] = df1['wave'].diff()\n",
    "df1['dispersion'].iloc[0] = df1['dispersion'][1] # Fill in the first value\n",
    "df1.head(3)"
   ]
  },
  {
   "cell_type": "code",
   "execution_count": 202,
   "metadata": {
    "collapsed": false
   },
   "outputs": [
    {
     "data": {
      "text/plain": [
       "(11500.0, 13800.0)"
      ]
     },
     "execution_count": 202,
     "metadata": {},
     "output_type": "execute_result"
    },
    {
     "data": {
      "image/png": "[encoded data removed]",
      "text/plain": [
       "<matplotlib.figure.Figure at 0x12377d8d0>"
      ]
     },
     "metadata": {},
     "output_type": "display_data"
    }
   ],
   "source": [
    "df1['smooth'] = df1['flam'].rolling(window=81, center=True).median()  # Rolling functions\n",
    "plt.plot(df1['wave'], df1['flam'], color='k')        # Plotting in regular matplotlib\n",
    "plt.plot(df1['wave'], df1['smooth'], color='green', lw=2)  # Smoothing example\n",
    "plt.ylim(0,0.1E-15)\n",
    "plt.xlim(1.15E4, 1.38E4)"
   ]
  },
  {
   "cell_type": "code",
   "execution_count": 203,
   "metadata": {
    "collapsed": false
   },
   "outputs": [
    {
     "name": "stdout",
     "output_type": "stream",
     "text": [
      "560    12793.1\n",
      "561    12795.7\n",
      "562    12798.3\n",
      "Name: wave, dtype: float64\n"
     ]
    }
   ],
   "source": [
    "# A pandas.Series() is a column (or a row) of a Pandas DataFrame\n",
    "example_series = df1.loc[df1['wave'].between(12793., 12799.)]['wave']\n",
    "print example_series"
   ]
  },
  {
   "cell_type": "code",
   "execution_count": 204,
   "metadata": {
    "collapsed": false
   },
   "outputs": [
    {
     "name": "stdout",
     "output_type": "stream",
     "text": [
      "12793.1 12793.1\n"
     ]
    }
   ],
   "source": [
    "# NumPy should work flawlessly on a Pandas Series or Dataframe\n",
    "print np.median(df1['wave']),   df1['wave'].median()"
   ]
  },
  {
   "cell_type": "code",
   "execution_count": 205,
   "metadata": {
    "collapsed": false
   },
   "outputs": [
    {
     "name": "stdout",
     "output_type": "stream",
     "text": [
      "[ 12793.1  12795.7  12798.3]\n",
      "<type 'numpy.ndarray'>\n"
     ]
    }
   ],
   "source": [
    "# as_matrix() converts a pandas.Series or DataFrame to a numpy ndarray:\n",
    "print example_series.as_matrix()\n",
    "print type(example_series.as_matrix())"
   ]
  },
  {
   "cell_type": "code",
   "execution_count": 206,
   "metadata": {
    "collapsed": false
   },
   "outputs": [],
   "source": [
    "# Some astropy and scipy functions will barf at a pandas.Series.  as_matrix() is the workaround\n",
    "boxcar = 21\n",
    "# This should barf:\n",
    "#smooth1 = astropy.convolution.convolve(df1['flam'], np.ones((boxcar,))/boxcar, boundary='extend', fill_value=np.nan)\n",
    "# But this should work:\n",
    "smooth1 = astropy.convolution.convolve(df1['flam'].as_matrix(), np.ones((boxcar,))/boxcar, boundary='extend', fill_value=np.nan)"
   ]
  },
  {
   "cell_type": "code",
   "execution_count": 212,
   "metadata": {
    "collapsed": false
   },
   "outputs": [
    {
     "data": {
      "text/plain": [
       "(1027, 5)"
      ]
     },
     "execution_count": 212,
     "metadata": {},
     "output_type": "execute_result"
    }
   ],
   "source": [
    "df1.dropna().shape"
   ]
  },
  {
   "cell_type": "code",
   "execution_count": 216,
   "metadata": {
    "collapsed": false
   },
   "outputs": [
    {
     "name": "stdout",
     "output_type": "stream",
     "text": [
      "1121 (1027, 5)\n",
      "(1e-15, 13523.907000000001, 30.0, 0.0)\n",
      "[  8.83609681e-16   1.35414973e+04   4.10266724e+00   6.23238583e-18]\n",
      "Flux was 9.08691976126e-15 erg/s/cm^2\n"
     ]
    },
    {
     "data": {
      "image/png": "[encoded data removed]",
      "text/plain": [
       "<matplotlib.figure.Figure at 0x124c98c10>"
      ]
     },
     "metadata": {},
     "output_type": "display_data"
    }
   ],
   "source": [
    "# Hack time:  \n",
    "# Fit the emission lines!  Measure the integrated flux of each emission line.\n",
    "# Bonus points: with uncertainties!\n",
    "# Hint #1: You may want to use scipy.optimize.curve_fit()\n",
    "# Hint #2: Unlike Pandas, scipy doesn't like NaN.  pandas.DataFrame.interpolate() or .dropna() can help\n",
    "rest_waves = np.array((4862.683, 4960.295, 5008.240))\n",
    "ax = df1.plot(x='wave', y='flam', color='k')\n",
    "df1.plot(x='wave', y='noise', color='yellow', ax=ax, label='uncert')\n",
    "plt.ylim(0,1E-15)\n",
    "plt.xlim(1.3E4, 1.36E4) \n",
    "plt.annotate(\"H\", xy=(1.315E4,0.2E-15), xycoords='data', fontsize=16)\n",
    "plt.annotate(\"O++\", xy=(1.34E4,0.4E-15), xycoords='data', fontsize=16)\n",
    "plt.annotate(\"O++\", xy=(1.355E4,0.8E-15), xycoords='data', fontsize=16)\n",
    "plt.xlabel(r\"observed wavelength ($\\AA$)\")\n",
    "##### REMOVE BELOW HERE FOR JANE'S SOLUTION\n",
    "# Below here is JRR's solution\n",
    "\n",
    "def onegaus(x, aa, bb, cc, cont): # Define a Gaussian with linear continuum\n",
    "    #y = np.zeros_like(x)\n",
    "    y = (aa * np.exp((x - bb)**2/(-2*cc**2))  + cont)\n",
    "    return y\n",
    "def fit_quick_gaussian(sp, guess_pars, colwave='wave', colf='flam', zz=0.) : # Gaussian fit to emission line.  Uses Pandas\n",
    "    # guess_pars are the initial guess at the Gaussian.\n",
    "    popt, pcov = curve_fit(onegaus, sp[colwave], sp[colf], p0=guess_pars)\n",
    "    fit = onegaus(sp[colwave], *popt)\n",
    "    return(popt, fit)\n",
    "def sum_of_gaussian(gauss_pars) :\n",
    "    (aa, bb, cc, cont) = gauss_pars\n",
    "    return( aa * cc * np.sqrt(2.0 * np.pi))\n",
    "\n",
    "print len(df1), df1.dropna().shape\n",
    "df2 = df1.dropna()\n",
    "guesspars = (1.E-15, 5007 *(1+1.701), 30., 0.0)\n",
    "(popt, fit) = fit_quick_gaussian(df2, guesspars, colwave='wave', colf='flam')\n",
    "plt.plot(df2['wave'], fit)\n",
    "print guesspars\n",
    "print popt\n",
    "print \"Flux was\", sum_of_gaussian(popt), \"erg/s/cm^2\"  # In counts"
   ]
  },
  {
   "cell_type": "code",
   "execution_count": null,
   "metadata": {
    "collapsed": true
   },
   "outputs": [],
   "source": []
  }
 ],
 "metadata": {
  "kernelspec": {
   "display_name": "Python 2",
   "language": "python",
   "name": "python2"
  },
  "language_info": {
   "codemirror_mode": {
    "name": "ipython",
    "version": 2
   },
   "file_extension": ".py",
   "mimetype": "text/x-python",
   "name": "python",
   "nbconvert_exporter": "python",
   "pygments_lexer": "ipython2",
   "version": "2.7.12"
  }
 },
 "nbformat": 4,
 "nbformat_minor": 0
}
