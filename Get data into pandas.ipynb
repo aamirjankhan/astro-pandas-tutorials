{
 "cells": [
  {
   "cell_type": "markdown",
   "metadata": {},
   "source": [
    "This is the first tutorial on using Pandas data frames for professional astronomy.  In this example, we import common types of astronomical data into Pandas DataFrames.  -jrigby, 10/2016"
   ]
  },
  {
   "cell_type": "code",
   "execution_count": 22,
   "metadata": {
    "collapsed": true
   },
   "outputs": [],
   "source": [
    "import pandas\n",
    "from astropy.io import ascii\n",
    "from astropy.table import Table\n",
    "from astropy.utils.data import download_file\n",
    "import subprocess"
   ]
  },
  {
   "cell_type": "code",
   "execution_count": 19,
   "metadata": {
    "collapsed": false
   },
   "outputs": [
    {
     "name": "stdout",
     "output_type": "stream",
     "text": [
      "# Simple text file of zodiacal emission and ISM (Galactic) emission for \r\n",
      "# the so-called \"1.2 min zody field\", used for JWST background calculations\r\n",
      "# Wave is wavelength in Micron. Zody and ISM are in MegaJanskies per sterradian (MJy/SR)\r\n",
      "wave zody   ISM\r\n",
      "0.5 0.130794 0.000470\r\n"
     ]
    },
    {
     "data": {
      "text/html": [
       "<div>\n",
       "<table border=\"1\" class=\"dataframe\">\n",
       "  <thead>\n",
       "    <tr style=\"text-align: right;\">\n",
       "      <th></th>\n",
       "      <th>wave</th>\n",
       "      <th>zody</th>\n",
       "      <th>ISM</th>\n",
       "    </tr>\n",
       "  </thead>\n",
       "  <tbody>\n",
       "    <tr>\n",
       "      <th>0</th>\n",
       "      <td>0.5</td>\n",
       "      <td>0.130794</td>\n",
       "      <td>0.000470</td>\n",
       "    </tr>\n",
       "    <tr>\n",
       "      <th>1</th>\n",
       "      <td>0.6</td>\n",
       "      <td>0.167639</td>\n",
       "      <td>0.000725</td>\n",
       "    </tr>\n",
       "  </tbody>\n",
       "</table>\n",
       "</div>"
      ],
      "text/plain": [
       "   wave      zody       ISM\n",
       "0   0.5  0.130794  0.000470\n",
       "1   0.6  0.167639  0.000725"
      ]
     },
     "execution_count": 19,
     "metadata": {},
     "output_type": "execute_result"
    }
   ],
   "source": [
    "# Read a simple ascii text file into Pandas\n",
    "!head -n 5 Sample_data/zody_and_ism.txt\n",
    "df1 = pandas.read_table(\"Sample_data/zody_and_ism.txt\", delim_whitespace=True, comment=\"#\")\n",
    "df1.head(2)"
   ]
  },
  {
   "cell_type": "markdown",
   "metadata": {},
   "source": [
    "Pandas normally expects the row of column names to be uncommented (csv format).  For some reason, astronomers often preface the column names with a \"#\".  I can't figure out how to make pandas.read_table ignore the \"#\", so here's a stupid workaround. (Thanks to C. Pacifici for pointing out the problem.)"
   ]
  },
  {
   "cell_type": "code",
   "execution_count": 37,
   "metadata": {
    "collapsed": false
   },
   "outputs": [
    {
     "name": "stdout",
     "output_type": "stream",
     "text": [
      "#wave zody   ISM\n",
      "0.5 0.130794 0.000470\n",
      "0.6 0.167639 0.000725\n",
      "\n"
     ]
    },
    {
     "data": {
      "text/html": [
       "<div>\n",
       "<table border=\"1\" class=\"dataframe\">\n",
       "  <thead>\n",
       "    <tr style=\"text-align: right;\">\n",
       "      <th></th>\n",
       "      <th>wave</th>\n",
       "      <th>zody</th>\n",
       "      <th>ISM</th>\n",
       "    </tr>\n",
       "  </thead>\n",
       "  <tbody>\n",
       "    <tr>\n",
       "      <th>0</th>\n",
       "      <td>0.5</td>\n",
       "      <td>0.130794</td>\n",
       "      <td>0.000470</td>\n",
       "    </tr>\n",
       "    <tr>\n",
       "      <th>1</th>\n",
       "      <td>0.6</td>\n",
       "      <td>0.167639</td>\n",
       "      <td>0.000725</td>\n",
       "    </tr>\n",
       "  </tbody>\n",
       "</table>\n",
       "</div>"
      ],
      "text/plain": [
       "   wave      zody       ISM\n",
       "0   0.5  0.130794  0.000470\n",
       "1   0.6  0.167639  0.000725"
      ]
     },
     "execution_count": 37,
     "metadata": {},
     "output_type": "execute_result"
    }
   ],
   "source": [
    "myfile = \"Sample_data/weirdheader.txt\"\n",
    "print subprocess.check_output(\"head -3 \" + myfile, shell=True)\n",
    "subprocess.check_output(\"sed s/\\#// < \" + myfile + \"> /tmp/workaround\", shell=True)\n",
    "#!sed 's/#//' < Sample_data/weirdheader.txt > /tmp/workaround\n",
    "df = pandas.read_table(\"/tmp/workaround\", sep='\\s+', skipinitialspace=True)\n",
    "# Jane has coded this into jrr.util.strip_pound_before_colnames():\n",
    "df.head(2)"
   ]
  },
  {
   "cell_type": "code",
   "execution_count": 3,
   "metadata": {
    "collapsed": false
   },
   "outputs": [
    {
     "data": {
      "text/html": [
       "<div>\n",
       "<table border=\"1\" class=\"dataframe\">\n",
       "  <thead>\n",
       "    <tr style=\"text-align: right;\">\n",
       "      <th></th>\n",
       "      <th>wave</th>\n",
       "      <th>bkg</th>\n",
       "    </tr>\n",
       "  </thead>\n",
       "  <tbody>\n",
       "    <tr>\n",
       "      <th>0</th>\n",
       "      <td>5.0</td>\n",
       "      <td>0.000049</td>\n",
       "    </tr>\n",
       "    <tr>\n",
       "      <th>1</th>\n",
       "      <td>5.1</td>\n",
       "      <td>0.000069</td>\n",
       "    </tr>\n",
       "    <tr>\n",
       "      <th>2</th>\n",
       "      <td>5.2</td>\n",
       "      <td>0.000096</td>\n",
       "    </tr>\n",
       "    <tr>\n",
       "      <th>3</th>\n",
       "      <td>5.3</td>\n",
       "      <td>0.000131</td>\n",
       "    </tr>\n",
       "    <tr>\n",
       "      <th>4</th>\n",
       "      <td>5.4</td>\n",
       "      <td>0.000178</td>\n",
       "    </tr>\n",
       "  </tbody>\n",
       "</table>\n",
       "</div>"
      ],
      "text/plain": [
       "   wave       bkg\n",
       "0   5.0  0.000049\n",
       "1   5.1  0.000069\n",
       "2   5.2  0.000096\n",
       "3   5.3  0.000131\n",
       "4   5.4  0.000178"
      ]
     },
     "execution_count": 3,
     "metadata": {},
     "output_type": "execute_result"
    }
   ],
   "source": [
    "# Read a simple .csv (comma-separated variable) file into Pandas\n",
    "df2 = pandas.read_csv(\"Sample_data/thermal_curve_jwst_jrigby_1.1.csv\", comment=\"#\", names=(\"wave\", \"bkg\"))\n",
    "df2.head()"
   ]
  },
  {
   "cell_type": "code",
   "execution_count": 4,
   "metadata": {
    "collapsed": false
   },
   "outputs": [
    {
     "name": "stdout",
     "output_type": "stream",
     "text": [
      "Downloading http://iopscience.iop.org/2041-8205/814/1/L6/suppdata/apjl521409t1_mrt.txt [Done]\n"
     ]
    },
    {
     "data": {
      "text/html": [
       "<div>\n",
       "<table border=\"1\" class=\"dataframe\">\n",
       "  <thead>\n",
       "    <tr style=\"text-align: right;\">\n",
       "      <th></th>\n",
       "      <th>Name</th>\n",
       "      <th>z</th>\n",
       "      <th>r_z</th>\n",
       "      <th>f_[O/H]</th>\n",
       "      <th>[O/H]</th>\n",
       "      <th>E_[O/H]</th>\n",
       "      <th>e_[O/H]</th>\n",
       "      <th>r_[O/H]</th>\n",
       "      <th>f_WrLya</th>\n",
       "      <th>WrLya</th>\n",
       "      <th>e_WrLya</th>\n",
       "      <th>r_WrLya</th>\n",
       "      <th>f_WCIII</th>\n",
       "      <th>WCIII</th>\n",
       "      <th>e_WCIII</th>\n",
       "      <th>r_WCIII</th>\n",
       "      <th>Sample</th>\n",
       "      <th>Filter</th>\n",
       "      <th>MagEmag</th>\n",
       "      <th>r_MagEmag</th>\n",
       "    </tr>\n",
       "  </thead>\n",
       "  <tbody>\n",
       "    <tr>\n",
       "      <th>0</th>\n",
       "      <td>RCSGA 032727-13260 Knot E</td>\n",
       "      <td>1.703745</td>\n",
       "      <td>2.0</td>\n",
       "      <td>NaN</td>\n",
       "      <td>8.34</td>\n",
       "      <td>0.02</td>\n",
       "      <td>0.02</td>\n",
       "      <td>W14</td>\n",
       "      <td>&gt;</td>\n",
       "      <td>-1.2</td>\n",
       "      <td>-99.0</td>\n",
       "      <td>R14</td>\n",
       "      <td>NaN</td>\n",
       "      <td>-2.0</td>\n",
       "      <td>0.14</td>\n",
       "      <td>R14</td>\n",
       "      <td>MagE</td>\n",
       "      <td>g</td>\n",
       "      <td>19.15</td>\n",
       "      <td>W10</td>\n",
       "    </tr>\n",
       "  </tbody>\n",
       "</table>\n",
       "</div>"
      ],
      "text/plain": [
       "                        Name         z  r_z f_[O/H]  [O/H]  E_[O/H]  e_[O/H]  \\\n",
       "0  RCSGA 032727-13260 Knot E  1.703745  2.0     NaN   8.34     0.02     0.02   \n",
       "\n",
       "  r_[O/H] f_WrLya  WrLya  e_WrLya r_WrLya f_WCIII  WCIII  e_WCIII r_WCIII  \\\n",
       "0     W14       >   -1.2    -99.0     R14     NaN   -2.0     0.14     R14   \n",
       "\n",
       "  Sample Filter  MagEmag r_MagEmag  \n",
       "0   MagE      g    19.15       W10  "
      ]
     },
     "execution_count": 4,
     "metadata": {},
     "output_type": "execute_result"
    }
   ],
   "source": [
    "# Read a machine-readable table from an ApJ paper into Pandas, via astropy.Table\n",
    "file2 = \"http://iopscience.iop.org/2041-8205/814/1/L6/suppdata/apjl521409t1_mrt.txt\"\n",
    "temp_table = ascii.read(file2) # this automagically gets the format right.\n",
    "df3 = temp_table.to_pandas()  # Convert from astropy Table to Pandas Data Frame.  Needs astropy 1.2\n",
    "df3.head(1)"
   ]
  },
  {
   "cell_type": "code",
   "execution_count": 5,
   "metadata": {
    "collapsed": false
   },
   "outputs": [
    {
     "data": {
      "text/html": [
       "<div>\n",
       "<table border=\"1\" class=\"dataframe\">\n",
       "  <thead>\n",
       "    <tr style=\"text-align: right;\">\n",
       "      <th></th>\n",
       "      <th>wavelength</th>\n",
       "      <th>background</th>\n",
       "      <th>thermal</th>\n",
       "      <th>straylight</th>\n",
       "      <th>infield</th>\n",
       "    </tr>\n",
       "  </thead>\n",
       "  <tbody>\n",
       "    <tr>\n",
       "      <th>83</th>\n",
       "      <td>26.5</td>\n",
       "      <td>1427.874634</td>\n",
       "      <td>1401.599976</td>\n",
       "      <td>2.511520</td>\n",
       "      <td>23.763126</td>\n",
       "    </tr>\n",
       "    <tr>\n",
       "      <th>84</th>\n",
       "      <td>27.5</td>\n",
       "      <td>1834.911255</td>\n",
       "      <td>1809.349976</td>\n",
       "      <td>2.450313</td>\n",
       "      <td>23.110891</td>\n",
       "    </tr>\n",
       "    <tr>\n",
       "      <th>85</th>\n",
       "      <td>28.5</td>\n",
       "      <td>2328.179688</td>\n",
       "      <td>2303.350098</td>\n",
       "      <td>2.387528</td>\n",
       "      <td>22.442274</td>\n",
       "    </tr>\n",
       "    <tr>\n",
       "      <th>86</th>\n",
       "      <td>29.5</td>\n",
       "      <td>2918.189453</td>\n",
       "      <td>2894.100098</td>\n",
       "      <td>2.323990</td>\n",
       "      <td>21.765467</td>\n",
       "    </tr>\n",
       "    <tr>\n",
       "      <th>87</th>\n",
       "      <td>30.5</td>\n",
       "      <td>184.821243</td>\n",
       "      <td>161.739136</td>\n",
       "      <td>1.994993</td>\n",
       "      <td>21.087128</td>\n",
       "    </tr>\n",
       "  </tbody>\n",
       "</table>\n",
       "</div>"
      ],
      "text/plain": [
       "    wavelength   background      thermal  straylight    infield\n",
       "83        26.5  1427.874634  1401.599976    2.511520  23.763126\n",
       "84        27.5  1834.911255  1809.349976    2.450313  23.110891\n",
       "85        28.5  2328.179688  2303.350098    2.387528  22.442274\n",
       "86        29.5  2918.189453  2894.100098    2.323990  21.765467\n",
       "87        30.5   184.821243   161.739136    1.994993  21.087128"
      ]
     },
     "execution_count": 5,
     "metadata": {},
     "output_type": "execute_result"
    }
   ],
   "source": [
    "# Read a binary .fits table into Pandas, via astropy.Table\n",
    "stsci_file = \"Sample_data/example_bkgs.fits\"\n",
    "tab = Table.read(stsci_file)\n",
    "stsci_df = tab.to_pandas()\n",
    "# If you're feeling fancy, you can do it in one line:\n",
    "stsci_df1 = Table.read(stsci_file).to_pandas()\n",
    "stsci_df1.tail()"
   ]
  },
  {
   "cell_type": "code",
   "execution_count": 6,
   "metadata": {
    "collapsed": false
   },
   "outputs": [],
   "source": [
    "# Note, an endian-ness mismatch between FITS and numpy can cause\n",
    "# gruesome errrors if you import this WRONG way:\n",
    "#   (mcat, mcat_hdr) = fits.getdata(mastercat_file, header=True) #WRONG\n",
    "#   pmcat = pandas.DataFrame.from_records(mcat)  # WRONG\n",
    "# USE .to_pandas() to avoid this.  See https://github.com/astropy/astropy/issues/1156"
   ]
  },
  {
   "cell_type": "code",
   "execution_count": 7,
   "metadata": {
    "collapsed": false
   },
   "outputs": [
    {
     "name": "stdout",
     "output_type": "stream",
     "text": [
      " [Failed]\n"
     ]
    },
    {
     "ename": "URLError",
     "evalue": "<urlopen error timed out>",
     "output_type": "error",
     "traceback": [
      "\u001b[0;31m---------------------------------------------------------------------------\u001b[0m",
      "\u001b[0;31mURLError\u001b[0m                                  Traceback (most recent call last)",
      "\u001b[0;32m<ipython-input-7-ff0bd167a4a1>\u001b[0m in \u001b[0;36m<module>\u001b[0;34m()\u001b[0m\n\u001b[1;32m      1\u001b[0m \u001b[0;31m# You can read really big binary fits tables.  May take a while to download.\u001b[0m\u001b[0;34m\u001b[0m\u001b[0;34m\u001b[0m\u001b[0m\n\u001b[1;32m      2\u001b[0m \u001b[0;31m# Here, let's read the 3D-HST master catalog.\u001b[0m\u001b[0;34m\u001b[0m\u001b[0;34m\u001b[0m\u001b[0m\n\u001b[0;32m----> 3\u001b[0;31m \u001b[0mdownload_file\u001b[0m\u001b[0;34m(\u001b[0m\u001b[0;34m\"http://monoceros.astro.yale.edu/RELEASE_V4.1.5/3dhst.v4.1.5.master.fits.gz\"\u001b[0m\u001b[0;34m)\u001b[0m\u001b[0;34m\u001b[0m\u001b[0m\n\u001b[0m\u001b[1;32m      4\u001b[0m \u001b[0;31m#mastercat_file = \"3dhst.v4.1.5.master.fits.gz\"\u001b[0m\u001b[0;34m\u001b[0m\u001b[0;34m\u001b[0m\u001b[0m\n\u001b[1;32m      5\u001b[0m \u001b[0;31m#pmcat = Table.read(mastercat_file).to_pandas()\u001b[0m\u001b[0;34m\u001b[0m\u001b[0;34m\u001b[0m\u001b[0m\n",
      "\u001b[0;32m/Volumes/Apps_and_Docs/JRR_Utils/anaconda/lib/python2.7/site-packages/astropy/utils/data.pyc\u001b[0m in \u001b[0;36mdownload_file\u001b[0;34m(remote_url, cache, show_progress, timeout)\u001b[0m\n\u001b[1;32m   1101\u001b[0m         \u001b[0;31m# way, but for some reason in mysterious circumstances it doesn't. So\u001b[0m\u001b[0;34m\u001b[0m\u001b[0;34m\u001b[0m\u001b[0m\n\u001b[1;32m   1102\u001b[0m         \u001b[0;31m# we'll just re-raise it here instead\u001b[0m\u001b[0;34m\u001b[0m\u001b[0;34m\u001b[0m\u001b[0m\n\u001b[0;32m-> 1103\u001b[0;31m         \u001b[0;32mraise\u001b[0m \u001b[0murllib\u001b[0m\u001b[0;34m.\u001b[0m\u001b[0merror\u001b[0m\u001b[0;34m.\u001b[0m\u001b[0mURLError\u001b[0m\u001b[0;34m(\u001b[0m\u001b[0me\u001b[0m\u001b[0;34m)\u001b[0m\u001b[0;34m\u001b[0m\u001b[0m\n\u001b[0m\u001b[1;32m   1104\u001b[0m \u001b[0;34m\u001b[0m\u001b[0m\n\u001b[1;32m   1105\u001b[0m     \u001b[0;32mreturn\u001b[0m \u001b[0mlocal_path\u001b[0m\u001b[0;34m\u001b[0m\u001b[0m\n",
      "\u001b[0;31mURLError\u001b[0m: <urlopen error timed out>"
     ]
    }
   ],
   "source": [
    "# You can read really big binary fits tables.  May take a while to download.\n",
    "# Here, let's read the 3D-HST master catalog.\n",
    "download_file(\"http://monoceros.astro.yale.edu/RELEASE_V4.1.5/3dhst.v4.1.5.master.fits.gz\")\n",
    "#mastercat_file = \"3dhst.v4.1.5.master.fits.gz\"\n",
    "#pmcat = Table.read(mastercat_file).to_pandas()"
   ]
  }
 ],
 "metadata": {
  "kernelspec": {
   "display_name": "Python 2",
   "language": "python",
   "name": "python2"
  },
  "language_info": {
   "codemirror_mode": {
    "name": "ipython",
    "version": 2
   },
   "file_extension": ".py",
   "mimetype": "text/x-python",
   "name": "python",
   "nbconvert_exporter": "python",
   "pygments_lexer": "ipython2",
   "version": "2.7.12"
  }
 },
 "nbformat": 4,
 "nbformat_minor": 0
}
