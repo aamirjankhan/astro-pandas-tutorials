{
 "cells": [
  {
   "cell_type": "markdown",
   "metadata": {},
   "source": [
    "This is the first tutorial on using Pandas data frames for professional astronomy.  In this example, we import common types of astronomical data into Pandas DataFrames.  -jrigby, 10/2016"
   ]
  },
  {
   "cell_type": "code",
   "execution_count": 47,
   "metadata": {
    "collapsed": true
   },
   "outputs": [],
   "source": [
    "import pandas\n",
    "from astropy.io import ascii\n",
    "from astropy.table import Table\n",
    "from astropy.utils.data import download_file"
   ]
  },
  {
   "cell_type": "code",
   "execution_count": 33,
   "metadata": {
    "collapsed": false
   },
   "outputs": [
    {
     "data": {
      "text/html": [
       "<div>\n",
       "<table border=\"1\" class=\"dataframe\">\n",
       "  <thead>\n",
       "    <tr style=\"text-align: right;\">\n",
       "      <th></th>\n",
       "      <th>wave</th>\n",
       "      <th>zody</th>\n",
       "      <th>ISM</th>\n",
       "    </tr>\n",
       "  </thead>\n",
       "  <tbody>\n",
       "    <tr>\n",
       "      <th>0</th>\n",
       "      <td>0.5</td>\n",
       "      <td>0.130794</td>\n",
       "      <td>0.000470</td>\n",
       "    </tr>\n",
       "    <tr>\n",
       "      <th>1</th>\n",
       "      <td>0.6</td>\n",
       "      <td>0.167639</td>\n",
       "      <td>0.000725</td>\n",
       "    </tr>\n",
       "    <tr>\n",
       "      <th>2</th>\n",
       "      <td>0.7</td>\n",
       "      <td>0.171173</td>\n",
       "      <td>0.001048</td>\n",
       "    </tr>\n",
       "    <tr>\n",
       "      <th>3</th>\n",
       "      <td>0.8</td>\n",
       "      <td>0.160736</td>\n",
       "      <td>0.001440</td>\n",
       "    </tr>\n",
       "    <tr>\n",
       "      <th>4</th>\n",
       "      <td>0.9</td>\n",
       "      <td>0.150599</td>\n",
       "      <td>0.001907</td>\n",
       "    </tr>\n",
       "  </tbody>\n",
       "</table>\n",
       "</div>"
      ],
      "text/plain": [
       "   wave      zody       ISM\n",
       "0   0.5  0.130794  0.000470\n",
       "1   0.6  0.167639  0.000725\n",
       "2   0.7  0.171173  0.001048\n",
       "3   0.8  0.160736  0.001440\n",
       "4   0.9  0.150599  0.001907"
      ]
     },
     "execution_count": 33,
     "metadata": {},
     "output_type": "execute_result"
    }
   ],
   "source": [
    "# Read a simple ascii text file into Pandas\n",
    "df1 = pandas.read_table(\"zody_and_ism.txt\", delim_whitespace=True, comment=\"#\")\n",
    "df1.head()"
   ]
  },
  {
   "cell_type": "code",
   "execution_count": 34,
   "metadata": {
    "collapsed": false
   },
   "outputs": [
    {
     "data": {
      "text/html": [
       "<div>\n",
       "<table border=\"1\" class=\"dataframe\">\n",
       "  <thead>\n",
       "    <tr style=\"text-align: right;\">\n",
       "      <th></th>\n",
       "      <th>wave</th>\n",
       "      <th>bkg</th>\n",
       "    </tr>\n",
       "  </thead>\n",
       "  <tbody>\n",
       "    <tr>\n",
       "      <th>0</th>\n",
       "      <td>5.0</td>\n",
       "      <td>0.000049</td>\n",
       "    </tr>\n",
       "    <tr>\n",
       "      <th>1</th>\n",
       "      <td>5.1</td>\n",
       "      <td>0.000069</td>\n",
       "    </tr>\n",
       "    <tr>\n",
       "      <th>2</th>\n",
       "      <td>5.2</td>\n",
       "      <td>0.000096</td>\n",
       "    </tr>\n",
       "    <tr>\n",
       "      <th>3</th>\n",
       "      <td>5.3</td>\n",
       "      <td>0.000131</td>\n",
       "    </tr>\n",
       "    <tr>\n",
       "      <th>4</th>\n",
       "      <td>5.4</td>\n",
       "      <td>0.000178</td>\n",
       "    </tr>\n",
       "  </tbody>\n",
       "</table>\n",
       "</div>"
      ],
      "text/plain": [
       "   wave       bkg\n",
       "0   5.0  0.000049\n",
       "1   5.1  0.000069\n",
       "2   5.2  0.000096\n",
       "3   5.3  0.000131\n",
       "4   5.4  0.000178"
      ]
     },
     "execution_count": 34,
     "metadata": {},
     "output_type": "execute_result"
    }
   ],
   "source": [
    "# Read a simple .csv (comma-separated variable) file into Pandas\n",
    "df2 = pandas.read_csv(\"thermal_curve_jwst_jrigby_1.1.csv\", comment=\"#\", names=(\"wave\", \"bkg\"))\n",
    "df2.head()"
   ]
  },
  {
   "cell_type": "code",
   "execution_count": null,
   "metadata": {
    "collapsed": false
   },
   "outputs": [],
   "source": [
    "# Read a machine-readable table from an ApJ paper into Pandas, via astropy.Table\n",
    "file2 = \"http://iopscience.iop.org/2041-8205/814/1/L6/suppdata/apjl521409t1_mrt.txt\"\n",
    "temp_table = ascii.read(file2) # this automagically gets the format right.\n",
    "df3 = temp_table.to_pandas()  # Convert from astropy Table to Pandas Data Frame.  Needs astropy 1.2\n",
    "df3.head(1)"
   ]
  },
  {
   "cell_type": "code",
   "execution_count": 43,
   "metadata": {
    "collapsed": false
   },
   "outputs": [
    {
     "data": {
      "text/html": [
       "<div>\n",
       "<table border=\"1\" class=\"dataframe\">\n",
       "  <thead>\n",
       "    <tr style=\"text-align: right;\">\n",
       "      <th></th>\n",
       "      <th>wavelength</th>\n",
       "      <th>background</th>\n",
       "      <th>thermal</th>\n",
       "      <th>straylight</th>\n",
       "      <th>infield</th>\n",
       "    </tr>\n",
       "  </thead>\n",
       "  <tbody>\n",
       "    <tr>\n",
       "      <th>83</th>\n",
       "      <td>26.5</td>\n",
       "      <td>1427.874634</td>\n",
       "      <td>1401.599976</td>\n",
       "      <td>2.511520</td>\n",
       "      <td>23.763126</td>\n",
       "    </tr>\n",
       "    <tr>\n",
       "      <th>84</th>\n",
       "      <td>27.5</td>\n",
       "      <td>1834.911255</td>\n",
       "      <td>1809.349976</td>\n",
       "      <td>2.450313</td>\n",
       "      <td>23.110891</td>\n",
       "    </tr>\n",
       "    <tr>\n",
       "      <th>85</th>\n",
       "      <td>28.5</td>\n",
       "      <td>2328.179688</td>\n",
       "      <td>2303.350098</td>\n",
       "      <td>2.387528</td>\n",
       "      <td>22.442274</td>\n",
       "    </tr>\n",
       "    <tr>\n",
       "      <th>86</th>\n",
       "      <td>29.5</td>\n",
       "      <td>2918.189453</td>\n",
       "      <td>2894.100098</td>\n",
       "      <td>2.323990</td>\n",
       "      <td>21.765467</td>\n",
       "    </tr>\n",
       "    <tr>\n",
       "      <th>87</th>\n",
       "      <td>30.5</td>\n",
       "      <td>184.821243</td>\n",
       "      <td>161.739136</td>\n",
       "      <td>1.994993</td>\n",
       "      <td>21.087128</td>\n",
       "    </tr>\n",
       "  </tbody>\n",
       "</table>\n",
       "</div>"
      ],
      "text/plain": [
       "    wavelength   background      thermal  straylight    infield\n",
       "83        26.5  1427.874634  1401.599976    2.511520  23.763126\n",
       "84        27.5  1834.911255  1809.349976    2.450313  23.110891\n",
       "85        28.5  2328.179688  2303.350098    2.387528  22.442274\n",
       "86        29.5  2918.189453  2894.100098    2.323990  21.765467\n",
       "87        30.5   184.821243   161.739136    1.994993  21.087128"
      ]
     },
     "execution_count": 43,
     "metadata": {},
     "output_type": "execute_result"
    }
   ],
   "source": [
    "# Read a binary .fits table into Pandas, via astropy.Table\n",
    "stsci_file = \"example_bkgs.fits\"\n",
    "tab = Table.read(stsci_file)\n",
    "stsci_df = tab.to_pandas()\n",
    "# If you're feeling fancy, you can do it in one line:\n",
    "stsci_df1 = Table.read(stsci_file).to_pandas()\n",
    "stsci_df1.tail()"
   ]
  },
  {
   "cell_type": "code",
   "execution_count": 44,
   "metadata": {
    "collapsed": false
   },
   "outputs": [],
   "source": [
    "# Note, an endian-ness mismatch between FITS and numpy can cause\n",
    "# gruesome errrors if you import this WRONG way:\n",
    "#   (mcat, mcat_hdr) = fits.getdata(mastercat_file, header=True) #WRONG\n",
    "#   pmcat = pandas.DataFrame.from_records(mcat)  # WRONG\n",
    "# USE .to_pandas() to avoid this.  See https://github.com/astropy/astropy/issues/1156"
   ]
  },
  {
   "cell_type": "code",
   "execution_count": null,
   "metadata": {
    "collapsed": false
   },
   "outputs": [
    {
     "name": "stdout",
     "output_type": "stream",
     "text": [
      "Downloading http://monoceros.astro.yale.edu/RELEASE_V4.1.5/3dhst.v4.1.5.master.fits.gz"
     ]
    }
   ],
   "source": [
    "# You can read really big binary fits tables.  May take a while to download.\n",
    "# Here, let's read the 3D-HST master catalog.\n",
    "download_file(\"http://monoceros.astro.yale.edu/RELEASE_V4.1.5/3dhst.v4.1.5.master.fits.gz\")\n",
    "#mastercat_file = \"3dhst.v4.1.5.master.fits.gz\"\n",
    "#pmcat = Table.read(mastercat_file).to_pandas()"
   ]
  }
 ],
 "metadata": {
  "kernelspec": {
   "display_name": "Python 2",
   "language": "python",
   "name": "python2"
  },
  "language_info": {
   "codemirror_mode": {
    "name": "ipython",
    "version": 2
   },
   "file_extension": ".py",
   "mimetype": "text/x-python",
   "name": "python",
   "nbconvert_exporter": "python",
   "pygments_lexer": "ipython2",
   "version": "2.7.11"
  }
 },
 "nbformat": 4,
 "nbformat_minor": 0
}
